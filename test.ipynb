{
 "cells": [
  {
   "cell_type": "code",
   "execution_count": 1,
   "id": "bcb3c76b",
   "metadata": {},
   "outputs": [
    {
     "name": "stdout",
     "output_type": "stream",
     "text": [
      "Using extant output directory: /glade/work/jmelms/data/e2s_outputs\n"
     ]
    },
    {
     "name": "stderr",
     "output_type": "stream",
     "text": [
      "/glade/u/home/jmelms/projects/earth2studio_setup/earth2studio-project/.venv/lib/python3.12/site-packages/ngcbase/util/utils.py:26: UserWarning: pkg_resources is deprecated as an API. See https://setuptools.pypa.io/en/latest/pkg_resources.html. The pkg_resources package is slated for removal as early as 2025-11-30. Refrain from using this package or pin to Setuptools<81.\n",
      "  import pkg_resources\n"
     ]
    },
    {
     "name": "stdout",
     "output_type": "stream",
     "text": [
      "Earth2Studio cache: /glade/work/jmelms/software/.E2S_cache\n"
     ]
    }
   ],
   "source": [
    "\"\"\" Import libraries. \"\"\"\n",
    "import os\n",
    "from pathlib import Path\n",
    "\n",
    "output_dir = Path(\"outputs\").resolve()\n",
    "if not output_dir.exists():\n",
    "    output_dir.mkdir(exist_ok=False)\n",
    "    print(f\"Making output directory: {output_dir}\")\n",
    "else:\n",
    "    print(f\"Using extant output directory: {output_dir}\")\n",
    "from dotenv import load_dotenv\n",
    "\n",
    "load_dotenv();  # TODO: make common example prep function\n",
    "\n",
    "from earth2studio.data import GFS\n",
    "from earth2studio.io import XarrayBackend\n",
    "from earth2studio.models.px import SFNO\n",
    "import numpy as np\n",
    "import matplotlib as mpl\n",
    "import matplotlib.pyplot as plt\n",
    "\n",
    "import earth2studio.run as run\n",
    "cache_loc = os.environ[\"EARTH2STUDIO_CACHE\"]\n",
    "print(f\"Earth2Studio cache: {cache_loc}\")"
   ]
  },
  {
   "cell_type": "code",
   "execution_count": 2,
   "id": "843c4f92",
   "metadata": {},
   "outputs": [],
   "source": [
    "from datetime import datetime\n",
    "from earth2studio.utils.type import TimeArray, VariableArray\n",
    "import xarray as xr\n",
    "\n",
    "class DataSetFile:\n",
    "    \"\"\"A local xarray dataset file data source. This file should be compatable with\n",
    "    xarray. For example, a netCDF file.\n",
    "\n",
    "    Parameters\n",
    "    ----------\n",
    "    file_path : str\n",
    "        Path to xarray dataset compatible file.\n",
    "    array_name : str\n",
    "        Data array name in xarray dataset\n",
    "    \"\"\"\n",
    "\n",
    "    def __init__(self, file_path: str, **xr_args ):\n",
    "        self.file_path = file_path\n",
    "        self.ds = xr.open_dataset(self.file_path, **xr_args)\n",
    "\n",
    "    def __call__(\n",
    "        self,\n",
    "        time: datetime | list[datetime] | TimeArray,\n",
    "        variable: str | list[str] | VariableArray,\n",
    "    ) -> xr.DataArray:\n",
    "        \"\"\"Function to get data.\n",
    "\n",
    "        Parameters\n",
    "        ----------\n",
    "        time : datetime | list[datetime] | TimeArray\n",
    "            Timestamps to return data for.\n",
    "        variable : str | list[str] | VariableArray\n",
    "            Strings or list of strings that refer to variables to return.\n",
    "\n",
    "        Returns\n",
    "        -------\n",
    "        xr.DataArray\n",
    "            Loaded data array\n",
    "        \"\"\"\n",
    "        # loop over variables and concatenate the data arrays\n",
    "        da_list = [self.ds[v].sel(time=np.atleast_1d(time)) for v in variable]\n",
    "        da = xr.concat(da_list, dim=\"variable\")\n",
    "        da = da.assign_coords(variable=variable)\n",
    "        # reorder to time variable lat lon\n",
    "        da = da.transpose(\"time\", \"variable\", \"lat\", \"lon\")\n",
    "        return da"
   ]
  },
  {
   "cell_type": "code",
   "execution_count": 11,
   "id": "f84907d1",
   "metadata": {},
   "outputs": [],
   "source": [
    "\"\"\" Set up the model \"\"\"\n",
    "# Load the default model package which downloads the check point from NGC\n",
    "package = SFNO.load_default_package()\n",
    "model = SFNO.load_model(package)"
   ]
  },
  {
   "cell_type": "code",
   "execution_count": 3,
   "id": "7998d557",
   "metadata": {},
   "outputs": [],
   "source": [
    "\"\"\" Set up the data sources. \"\"\"\n",
    "unperturbed_data = DataSetFile('initial_conditions/ic_unperturbed.nc')\n",
    "perturbed_data = DataSetFile('initial_conditions/ic_perturbed.nc')"
   ]
  },
  {
   "cell_type": "code",
   "execution_count": 4,
   "id": "6c2784fb",
   "metadata": {},
   "outputs": [
    {
     "ename": "NameError",
     "evalue": "name 'model' is not defined",
     "output_type": "error",
     "traceback": [
      "\u001b[31m---------------------------------------------------------------------------\u001b[39m",
      "\u001b[31mNameError\u001b[39m                                 Traceback (most recent call last)",
      "\u001b[36mCell\u001b[39m\u001b[36m \u001b[39m\u001b[32mIn[4]\u001b[39m\u001b[32m, line 12\u001b[39m\n\u001b[32m      9\u001b[39m     states.append(x)\n\u001b[32m     10\u001b[39m     \u001b[38;5;28;01mreturn\u001b[39;00m x, coords\n\u001b[32m---> \u001b[39m\u001b[32m12\u001b[39m \u001b[43mmodel\u001b[49m.rear_hook = append_state\n\u001b[32m     13\u001b[39m model.front_hook = append_state\n\u001b[32m     15\u001b[39m \u001b[38;5;66;03m# run the model for one step; this will populate the states[] list above\u001b[39;00m\n",
      "\u001b[31mNameError\u001b[39m: name 'model' is not defined"
     ]
    }
   ],
   "source": [
    "\"\"\" Set up tendency reversion. \"\"\"\n",
    "# set up IO\n",
    "dummy_io = XarrayBackend()\n",
    "\n",
    "# set up a hook function that appends the model state to a list\n",
    "states = []\n",
    "def append_state(x, coords):\n",
    "    \"\"\" Appends the states to a list\"\"\"\n",
    "    states.append(x)\n",
    "    return x, coords\n",
    "\n",
    "model.rear_hook = append_state\n",
    "model.front_hook = append_state\n",
    "\n",
    "# run the model for one step; this will populate the states[] list above\n",
    "nsteps = 1\n",
    "io = run.deterministic([\"2024-01-01\"], nsteps, model, unperturbed_data, dummy_io)\n",
    "\n",
    "# get the recurrent perturbation\n",
    "rpert = states[0] - states[1]"
   ]
  },
  {
   "cell_type": "code",
   "execution_count": null,
   "id": "bc6202ed",
   "metadata": {},
   "outputs": [
    {
     "name": "stdout",
     "output_type": "stream",
     "text": [
      "\u001b[32m2025-06-11 12:50:48.345\u001b[0m | \u001b[1mINFO    \u001b[0m | \u001b[36mearth2studio.run\u001b[0m:\u001b[36mdeterministic\u001b[0m:\u001b[36m75\u001b[0m - \u001b[1mRunning simple workflow!\u001b[0m\n",
      "\u001b[32m2025-06-11 12:50:48.346\u001b[0m | \u001b[1mINFO    \u001b[0m | \u001b[36mearth2studio.run\u001b[0m:\u001b[36mdeterministic\u001b[0m:\u001b[36m82\u001b[0m - \u001b[1mInference device: cuda\u001b[0m\n",
      "\u001b[32m2025-06-11 12:50:49.410\u001b[0m | \u001b[32m\u001b[1mSUCCESS \u001b[0m | \u001b[36mearth2studio.run\u001b[0m:\u001b[36mdeterministic\u001b[0m:\u001b[36m106\u001b[0m - \u001b[32m\u001b[1mFetched data from DataSetFile\u001b[0m\n",
      "\u001b[32m2025-06-11 12:50:50.030\u001b[0m | \u001b[1mINFO    \u001b[0m | \u001b[36mearth2studio.run\u001b[0m:\u001b[36mdeterministic\u001b[0m:\u001b[36m136\u001b[0m - \u001b[1mInference starting!\u001b[0m\n"
     ]
    },
    {
     "name": "stderr",
     "output_type": "stream",
     "text": [
      "Running inference: 100%|██████████| 2/2 [00:02<00:00,  1.24s/it]\n"
     ]
    },
    {
     "name": "stdout",
     "output_type": "stream",
     "text": [
      "\u001b[32m2025-06-11 12:50:52.510\u001b[0m | \u001b[32m\u001b[1mSUCCESS \u001b[0m | \u001b[36mearth2studio.run\u001b[0m:\u001b[36mdeterministic\u001b[0m:\u001b[36m146\u001b[0m - \u001b[32m\u001b[1mInference complete\u001b[0m\n",
      "<xarray.Dataset> Size: 584B\n",
      "Dimensions:  ()\n",
      "Data variables: (12/73)\n",
      "    u10m     float64 8B 1.907e-06\n",
      "    v10m     float64 8B 1.907e-06\n",
      "    u100m    float64 8B 1.907e-06\n",
      "    v100m    float64 8B 1.907e-06\n",
      "    t2m      float64 8B 0.0\n",
      "    sp       float64 8B 0.0\n",
      "    ...       ...\n",
      "    q500     float64 8B 2.328e-10\n",
      "    q600     float64 8B 4.657e-10\n",
      "    q700     float64 8B 4.657e-10\n",
      "    q850     float64 8B 9.313e-10\n",
      "    q925     float64 8B 1.863e-09\n",
      "    q1000    float64 8B 1.863e-09\n"
     ]
    },
    {
     "data": {
      "image/png": "[encoded data removed]",
      "text/plain": [
       "<Figure size 640x480 with 2 Axes>"
      ]
     },
     "metadata": {},
     "output_type": "display_data"
    }
   ],
   "source": [
    "\"\"\" Verify that tendency reversion works. \"\"\"\n",
    "\n",
    "# set up a post-model hook function that reverts the tendency\n",
    "def tendency_reversion(x, coords):\n",
    "    \"\"\" Reverts the tendency to the first state \"\"\"\n",
    "    return x + rpert, coords\n",
    "\n",
    "# set up a hook function that returns the input as is\n",
    "def identity(x, coords):\n",
    "    \"\"\" Returns the input as is \"\"\"\n",
    "    return x, coords\n",
    "\n",
    "# reset the model hooks\n",
    "model.front_hook = identity\n",
    "model.rear_hook = tendency_reversion\n",
    "\n",
    "nsteps = 1\n",
    "io = XarrayBackend()\n",
    "io = run.deterministic([\"2024-01-01\"], nsteps, model, unperturbed_data, io)\n",
    "ds = io.root\n",
    "\n",
    "# plot the difference between the timesteps\n",
    "ds_diff = ds.diff(dim = \"lead_time\")\n",
    "ds_diff['msl'].plot()\n",
    "plt.title(f\"Max difference: {ds_diff['msl'].max().values:.2f} hPa\")\n",
    "print(ds_diff.max())"
   ]
  },
  {
   "cell_type": "code",
   "execution_count": null,
   "id": "8cefa177",
   "metadata": {},
   "outputs": [
    {
     "name": "stdout",
     "output_type": "stream",
     "text": [
      "\u001b[32m2025-06-11 12:50:57.364\u001b[0m | \u001b[1mINFO    \u001b[0m | \u001b[36mearth2studio.run\u001b[0m:\u001b[36mdeterministic\u001b[0m:\u001b[36m75\u001b[0m - \u001b[1mRunning simple workflow!\u001b[0m\n",
      "\u001b[32m2025-06-11 12:50:57.365\u001b[0m | \u001b[1mINFO    \u001b[0m | \u001b[36mearth2studio.run\u001b[0m:\u001b[36mdeterministic\u001b[0m:\u001b[36m82\u001b[0m - \u001b[1mInference device: cuda\u001b[0m\n",
      "\u001b[32m2025-06-11 12:50:58.143\u001b[0m | \u001b[32m\u001b[1mSUCCESS \u001b[0m | \u001b[36mearth2studio.run\u001b[0m:\u001b[36mdeterministic\u001b[0m:\u001b[36m106\u001b[0m - \u001b[32m\u001b[1mFetched data from DataSetFile\u001b[0m\n",
      "\u001b[32m2025-06-11 12:51:04.238\u001b[0m | \u001b[1mINFO    \u001b[0m | \u001b[36mearth2studio.run\u001b[0m:\u001b[36mdeterministic\u001b[0m:\u001b[36m136\u001b[0m - \u001b[1mInference starting!\u001b[0m\n"
     ]
    },
    {
     "name": "stderr",
     "output_type": "stream",
     "text": [
      "Running inference: 100%|██████████| 41/41 [01:07<00:00,  1.64s/it]"
     ]
    },
    {
     "name": "stdout",
     "output_type": "stream",
     "text": [
      "\u001b[32m2025-06-11 12:52:11.339\u001b[0m | \u001b[32m\u001b[1mSUCCESS \u001b[0m | \u001b[36mearth2studio.run\u001b[0m:\u001b[36mdeterministic\u001b[0m:\u001b[36m146\u001b[0m - \u001b[32m\u001b[1mInference complete\u001b[0m\n"
     ]
    },
    {
     "name": "stderr",
     "output_type": "stream",
     "text": [
      "\n"
     ]
    }
   ],
   "source": [
    "\"\"\" Run the model with the perturbed data and tendency reversion. \"\"\"\n",
    "\n",
    "# reset the model hooks for tendency reversion\n",
    "model.front_hook = identity\n",
    "model.rear_hook = tendency_reversion\n",
    "\n",
    "nsteps = 10 * 4 # steps, 10 days at 4 steps per day\n",
    "io = XarrayBackend()\n",
    "io = run.deterministic([\"2024-01-01\"], nsteps, model, perturbed_data, io)"
   ]
  },
  {
   "cell_type": "code",
   "execution_count": null,
   "id": "2d794427",
   "metadata": {},
   "outputs": [
    {
     "ename": "",
     "evalue": "",
     "output_type": "error",
     "traceback": [
      "\u001b[1;31mnotebook controller is DISPOSED. \n",
      "\u001b[1;31mView Jupyter <a href='command:jupyter.viewOutput'>log</a> for further details."
     ]
    },
    {
     "ename": "",
     "evalue": "",
     "output_type": "error",
     "traceback": [
      "\u001b[1;31mnotebook controller is DISPOSED. \n",
      "\u001b[1;31mView Jupyter <a href='command:jupyter.viewOutput'>log</a> for further details."
     ]
    },
    {
     "ename": "",
     "evalue": "",
     "output_type": "error",
     "traceback": [
      "\u001b[1;31mnotebook controller is DISPOSED. \n",
      "\u001b[1;31mView Jupyter <a href='command:jupyter.viewOutput'>log</a> for further details."
     ]
    }
   ],
   "source": [
    "ds = io.root\n",
    "import os\n",
    "os.makedirs(\"outputs\", exist_ok=True)\n",
    "ds.to_netcdf(\"outputs/perturbed.nc\")"
   ]
  }
 ],
 "metadata": {
  "kernelspec": {
   "display_name": ".venv",
   "language": "python",
   "name": "python3"
  },
  "language_info": {
   "codemirror_mode": {
    "name": "ipython",
    "version": 3
   },
   "file_extension": ".py",
   "mimetype": "text/x-python",
   "name": "python",
   "nbconvert_exporter": "python",
   "pygments_lexer": "ipython3",
   "version": "3.12.11"
  }
 },
 "nbformat": 4,
 "nbformat_minor": 5
}
